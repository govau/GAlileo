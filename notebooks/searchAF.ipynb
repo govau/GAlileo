{
 "cells": [
  {
   "cell_type": "code",
   "execution_count": null,
   "metadata": {},
   "outputs": [],
   "source": [
    "import snowballstemmer\n",
    "\n",
    "from sklearn.feature_extraction.text import TfidfVectorizer\n",
    "from sklearn.feature_extraction.stop_words import ENGLISH_STOP_WORDS\n",
    "from sklearn.cluster import AffinityPropagation\n",
    "\n",
    "\n",
    "class LemmatizedTfidfVectorizer(TfidfVectorizer):\n",
    "    \"\"\"\n",
    "    Vectorizer that first lemmatizes words.\n",
    "    \"\"\"\n",
    "    def __init__(self, *args, **kwargs):\n",
    "      super().__init__(*args, **kwargs)\n",
    "      self.stemmer = snowballstemmer.stemmer('English')\n",
    "      \n",
    "    def build_analyzer(self):\n",
    "        analyzer = super(LemmatizedTfidfVectorizer, self).build_analyzer()\n",
    "\n",
    "        def lemmatize(phrase):\n",
    "            words = analyzer(phrase)\n",
    "            return [self.stemmer.stemWord(word)\n",
    "                    for word in words]\n",
    "\n",
    "        return lemmatize"
   ]
  },
  {
   "cell_type": "code",
   "execution_count": null,
   "metadata": {},
   "outputs": [],
   "source": [
    "import random\n",
    "keywords = []\n",
    "with open('../data/queriesu.txt') as f:\n",
    "     for line in f:\n",
    "            # replace only number lines like phone numbers\n",
    "            if line.replace(\" \",\"\").strip().isdigit():\n",
    "                line = \"\"\n",
    "            # remove single characters and lone numbers\n",
    "            line = \" \".join([x if len(x) > 1 and not x.isdigit() else \"\" for x in line.split(\" \") ]).strip()\n",
    "            if len(line) > 0 and \" \" in line and random.random() > .85:\n",
    "                keywords.append(line.strip())\n",
    "print(len(keywords))\n",
    "print(keywords[:30])"
   ]
  },
  {
   "cell_type": "code",
   "execution_count": null,
   "metadata": {},
   "outputs": [],
   "source": [
    "%%time\n",
    "vec = LemmatizedTfidfVectorizer(stop_words=ENGLISH_STOP_WORDS.union(\n",
    "    ['australia','australian','government','of',\"www\",\"gov\",\"au\",\"have\",\"any\"]))\n",
    "vectorized = vec.fit_transform(keywords)"
   ]
  },
  {
   "cell_type": "code",
   "execution_count": null,
   "metadata": {},
   "outputs": [],
   "source": [
    "%%time\n",
    "af = AffinityPropagation(max_iter=2, convergence_iter=2).fit(vectorized)\n",
    "print(af.n_iter_)"
   ]
  },
  {
   "cell_type": "code",
   "execution_count": null,
   "metadata": {},
   "outputs": [],
   "source": [
    "%%time\n",
    "clusters = {}\n",
    "for keyword, cluster_id in zip(keywords, af.labels_):\n",
    "    clusters.setdefault(cluster_id, []).append(keyword)\n",
    "print(len(clusters),\"clusters\",\"\\n\")\n",
    "i = 0\n",
    "for id, items in clusters.items():\n",
    "    if len(items) > 5 and len(items) < 20:\n",
    "        i += 1\n",
    "        print('\\n'.join(items))\n",
    "        print()\n",
    "    else:\n",
    "        if len(items) > 4:\n",
    "            print(\"!!! \", len(items), items[0])\n",
    "            print()\n",
    "print(\"displayed\",i,\"clusters\")"
   ]
  },
  {
   "cell_type": "code",
   "execution_count": null,
   "metadata": {},
   "outputs": [],
   "source": []
  }
 ],
 "metadata": {
  "kernelspec": {
   "display_name": "Python 3",
   "language": "python",
   "name": "python3"
  },
  "language_info": {
   "codemirror_mode": {
    "name": "ipython",
    "version": 3
   },
   "file_extension": ".py",
   "mimetype": "text/x-python",
   "name": "python",
   "nbconvert_exporter": "python",
   "pygments_lexer": "ipython3",
   "version": "3.6.8"
  }
 },
 "nbformat": 4,
 "nbformat_minor": 2
}
