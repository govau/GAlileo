{
 "cells": [
  {
   "cell_type": "code",
   "execution_count": 1,
   "id": "narrow-composition",
   "metadata": {},
   "outputs": [],
   "source": [
    "import pandas as pd\n",
    "import numpy as np"
   ]
  },
  {
   "cell_type": "code",
   "execution_count": 2,
   "id": "entertaining-baseball",
   "metadata": {},
   "outputs": [],
   "source": [
    "data = pd.read_csv('data/data_domains.csv') # from sql code cpp_domains_final and \n",
    "# bigquery code cpp_domains_statistics\n",
    "govcms_data = pd.read_csv('data/govcms_data.csv')"
   ]
  },
  {
   "cell_type": "code",
   "execution_count": 3,
   "id": "verified-richmond",
   "metadata": {},
   "outputs": [],
   "source": [
    "# lets make it all one table\n",
    "govcms_data = govcms_data.rename(columns={\"domainname\": \"domain\"})\n",
    "tables = [data, govcms_data]\n",
    "data_domains = pd.concat(tables)\n",
    "data_domains = data_domains.set_index('domain')"
   ]
  },
  {
   "cell_type": "code",
   "execution_count": 48,
   "id": "retained-investor",
   "metadata": {},
   "outputs": [],
   "source": [
    "data_domains = data_domains[data_domains.index != 'govcms']\n",
    "data_domains['bounce_rate'] = data_domains['total_bounces']/data_domains['total_visitors']"
   ]
  },
  {
   "cell_type": "code",
   "execution_count": 49,
   "id": "rubber-parade",
   "metadata": {},
   "outputs": [
    {
     "data": {
      "text/plain": [
       "Index(['total_visitors', 'unique_visitors', 'total_new_users',\n",
       "       'percentage_new_visitors', 'total_pageviews', 'pages_per_session',\n",
       "       'avg_time_on_page', 'total_bounces', 'traffic_medium_referral',\n",
       "       'traffic_medium_organic', 'traffic_medium_direct', 'traffic_medium_cpm',\n",
       "       'traffic_medium_email', 'traffic_medium_other',\n",
       "       'traffic_medium_all_gov_referral', 'traffic_medium_fed_gov_referral',\n",
       "       'traffic_medium_other_gov_referral', 'bounce_rate'],\n",
       "      dtype='object')"
      ]
     },
     "execution_count": 49,
     "metadata": {},
     "output_type": "execute_result"
    }
   ],
   "source": [
    "data_domains.columns"
   ]
  },
  {
   "cell_type": "code",
   "execution_count": 62,
   "id": "backed-formula",
   "metadata": {},
   "outputs": [],
   "source": [
    "def reject_outliers(data):\n",
    "    if np.isnan(np.quantile(data,0.25)):\n",
    "        Q1 = data.quantile(0.25)\n",
    "        Q3 = data.quantile(0.75)\n",
    "    else:\n",
    "        Q1 = np.quantile(data,0.25)\n",
    "        Q3 = np.quantile(data,0.75)\n",
    "    IQR = Q3 - Q1\n",
    "    return np.array([e for i,e in enumerate(data) if ((data > (Q1 - 1.5 * IQR)) & (data < (Q3 + 1.5 * IQR)))[i]])"
   ]
  },
  {
   "cell_type": "code",
   "execution_count": 66,
   "id": "tutorial-drove",
   "metadata": {},
   "outputs": [],
   "source": [
    "def bucket_maker(data,column_name):\n",
    "    bucketed_data = pd.cut(data,15)\n",
    "    sorted_data = bucketed_data.value_counts()\n",
    "    return_data = pd.DataFrame(sorted_data, columns= ['number in bucket'])\n",
    "    return_data['metric'] = column_name\n",
    "    return_data = return_data.reset_index()\n",
    "    return return_data"
   ]
  },
  {
   "cell_type": "code",
   "execution_count": 81,
   "id": "stretch-repository",
   "metadata": {},
   "outputs": [],
   "source": [
    "metrics_to_use = ['percentage_new_visitors', 'pages_per_session', 'bounce_rate', 'avg_time_on_page']\n",
    "all_data = pd.DataFrame(columns = ['index','number in bucket', 'metric'])\n",
    "for current_metric in metrics_to_use:\n",
    "    current_data = data_domains[current_metric]\n",
    "    current_data = reject_outliers(current_data)\n",
    "    current_data = bucket_maker(current_data,current_metric)\n",
    "    tables = [all_data, current_data]\n",
    "    all_data = pd.concat(tables)"
   ]
  },
  {
   "cell_type": "code",
   "execution_count": 83,
   "id": "monetary-kennedy",
   "metadata": {},
   "outputs": [],
   "source": [
    "all_data = all_data.rename(columns={'index':'bucket'})"
   ]
  },
  {
   "cell_type": "code",
   "execution_count": 85,
   "id": "cardiac-equity",
   "metadata": {},
   "outputs": [],
   "source": [
    "all_data.to_csv('output_data.csv')"
   ]
  },
  {
   "cell_type": "code",
   "execution_count": null,
   "id": "united-access",
   "metadata": {},
   "outputs": [],
   "source": []
  }
 ],
 "metadata": {
  "kernelspec": {
   "display_name": "Python 3",
   "language": "python",
   "name": "python3"
  },
  "language_info": {
   "codemirror_mode": {
    "name": "ipython",
    "version": 3
   },
   "file_extension": ".py",
   "mimetype": "text/x-python",
   "name": "python",
   "nbconvert_exporter": "python",
   "pygments_lexer": "ipython3",
   "version": "3.8.5"
  }
 },
 "nbformat": 4,
 "nbformat_minor": 5
}
